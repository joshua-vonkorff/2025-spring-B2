{
 "cells": [
  {
   "cell_type": "markdown",
   "id": "74568a8b-8877-4c2a-96ab-094e9b500329",
   "metadata": {},
   "source": [
    "Suppose we are running an online business that sells groceries.  We want to create a table that represents the characteristics of the groceries.  Each item has a name; a price; a quantity purchased; a date of purchase; and a state in which it was purchased.\n",
    "\n",
    "I am going to deliberately introduce null values, duplicate rows, and data values that don't make sense.  I will then pretend I don't know about these problems and write some code to detect them.\n",
    "\n",
    "To demonstrate how to research code, I will do some Google and ChatGPT searches.  According to the course policy, you are required to show the Generative AI searches you did."
   ]
  },
  {
   "cell_type": "markdown",
   "id": "7ab4955e-e615-41e4-9874-e44561b5d7db",
   "metadata": {},
   "source": [
    "### Comments:\n",
    "### Please do not use any of this code unless you understand how it works!\n",
    "### Understanding code is your goal in this course.\n",
    "### In your homework, try to go beyond what's in this notebook and do some things that are your own."
   ]
  },
  {
   "cell_type": "code",
   "execution_count": 1,
   "id": "f70b341c-af47-43b9-ad4d-56824ca25a7b",
   "metadata": {},
   "outputs": [],
   "source": [
    "import random\n",
    "import pandas as pd\n",
    "from datetime import datetime\n",
    "from datetime import timedelta\n",
    "import numpy as np\n",
    "numrows = 100\n",
    "np.random.seed(0)\n",
    "random.seed(0)\n",
    "df_groceries = pd.DataFrame({})\n",
    "df_groceries[\"name\"] = [random.choice([\"apples_pound\", \"oranges_pound\", \"bananas_pound\", \"milk_gallon\", \"lettuce\"]) for num in range(numrows)]"
   ]
  },
  {
   "cell_type": "code",
   "execution_count": 2,
   "id": "e5d4282d-2987-4c41-8c8f-b90c5bfa9e57",
   "metadata": {},
   "outputs": [],
   "source": [
    "numrows = 100\n",
    "df_groceries = pd.DataFrame({})\n",
    "#df_groceries[\"name\"] = [\"apple\", \"banana\", \"orange\", \"milk\", \"lettuce\"]\n",
    "df_groceries[\"name\"] = [random.choice([\"apples_pound\", \"bananas_pound\", \"oranges_pound\", \"milk_gallon\", \"lettuce\"]) for x in range(numrows)]"
   ]
  },
  {
   "cell_type": "code",
   "execution_count": 3,
   "id": "faf59b0e-487d-409f-b43a-acc63db74aba",
   "metadata": {},
   "outputs": [],
   "source": [
    "def choose_unit_price(name):\n",
    "    if(name == \"apples_pound\"):\n",
    "        return random.uniform(1.00, 2.00)\n",
    "    elif(name == \"oranges_pound\"):\n",
    "        return random.uniform(2.00, 4.00)\n",
    "    elif(name == \"bananas_pound\"):\n",
    "        return random.uniform(1.00, 2.00)\n",
    "    elif(name == \"milk_gallon\"):\n",
    "        return random.uniform(3.00, 5.00)\n",
    "    elif(name == \"lettuce\"):\n",
    "        return random.uniform(1.50, 2.50)"
   ]
  },
  {
   "cell_type": "code",
   "execution_count": 4,
   "id": "c7e1a663-e21c-4184-ac29-6416954e8839",
   "metadata": {},
   "outputs": [],
   "source": [
    "df_groceries[\"unit_price\"] = df_groceries[\"name\"].apply(choose_unit_price)\n",
    "df_groceries[\"quantity\"] = [random.randint(1, 5) for num in range(numrows)]"
   ]
  },
  {
   "cell_type": "code",
   "execution_count": 5,
   "id": "36f907e2-02d8-4bfc-a4f1-ca6441cb6f50",
   "metadata": {},
   "outputs": [],
   "source": [
    "start = datetime(2020, 1, 1)\n",
    "end = datetime(2025, 1, 1)\n",
    "numdays = (end - start).days\n",
    "random_days = np.random.randint(0, numdays, size = numrows)\n",
    "df_groceries[\"date_purchased\"] = start + pd.to_timedelta(random_days, unit='D')\n",
    "df_groceries[\"state\"] = [random.choice([\"NY\", \"MA\", \"CA\"]) for num in range(numrows)]"
   ]
  },
  {
   "cell_type": "code",
   "execution_count": 6,
   "id": "e1c7fb29-d398-4c0f-b9ba-e04582f9228d",
   "metadata": {},
   "outputs": [
    {
     "data": {
      "text/html": [
       "<div>\n",
       "<style scoped>\n",
       "    .dataframe tbody tr th:only-of-type {\n",
       "        vertical-align: middle;\n",
       "    }\n",
       "\n",
       "    .dataframe tbody tr th {\n",
       "        vertical-align: top;\n",
       "    }\n",
       "\n",
       "    .dataframe thead th {\n",
       "        text-align: right;\n",
       "    }\n",
       "</style>\n",
       "<table border=\"1\" class=\"dataframe\">\n",
       "  <thead>\n",
       "    <tr style=\"text-align: right;\">\n",
       "      <th></th>\n",
       "      <th>name</th>\n",
       "      <th>unit_price</th>\n",
       "      <th>quantity</th>\n",
       "      <th>date_purchased</th>\n",
       "      <th>state</th>\n",
       "    </tr>\n",
       "  </thead>\n",
       "  <tbody>\n",
       "    <tr>\n",
       "      <th>0</th>\n",
       "      <td>oranges_pound</td>\n",
       "      <td>2.777284</td>\n",
       "      <td>3</td>\n",
       "      <td>2021-11-15</td>\n",
       "      <td>MA</td>\n",
       "    </tr>\n",
       "    <tr>\n",
       "      <th>1</th>\n",
       "      <td>lettuce</td>\n",
       "      <td>2.157616</td>\n",
       "      <td>1</td>\n",
       "      <td>2021-07-13</td>\n",
       "      <td>MA</td>\n",
       "    </tr>\n",
       "    <tr>\n",
       "      <th>2</th>\n",
       "      <td>bananas_pound</td>\n",
       "      <td>1.153413</td>\n",
       "      <td>2</td>\n",
       "      <td>2024-07-11</td>\n",
       "      <td>CA</td>\n",
       "    </tr>\n",
       "    <tr>\n",
       "      <th>3</th>\n",
       "      <td>bananas_pound</td>\n",
       "      <td>1.690823</td>\n",
       "      <td>2</td>\n",
       "      <td>2023-05-01</td>\n",
       "      <td>NY</td>\n",
       "    </tr>\n",
       "    <tr>\n",
       "      <th>4</th>\n",
       "      <td>lettuce</td>\n",
       "      <td>1.957954</td>\n",
       "      <td>3</td>\n",
       "      <td>2022-04-15</td>\n",
       "      <td>NY</td>\n",
       "    </tr>\n",
       "    <tr>\n",
       "      <th>...</th>\n",
       "      <td>...</td>\n",
       "      <td>...</td>\n",
       "      <td>...</td>\n",
       "      <td>...</td>\n",
       "      <td>...</td>\n",
       "    </tr>\n",
       "    <tr>\n",
       "      <th>95</th>\n",
       "      <td>milk_gallon</td>\n",
       "      <td>3.917329</td>\n",
       "      <td>5</td>\n",
       "      <td>2021-10-01</td>\n",
       "      <td>MA</td>\n",
       "    </tr>\n",
       "    <tr>\n",
       "      <th>96</th>\n",
       "      <td>lettuce</td>\n",
       "      <td>1.935441</td>\n",
       "      <td>2</td>\n",
       "      <td>2023-03-01</td>\n",
       "      <td>MA</td>\n",
       "    </tr>\n",
       "    <tr>\n",
       "      <th>97</th>\n",
       "      <td>lettuce</td>\n",
       "      <td>2.371411</td>\n",
       "      <td>1</td>\n",
       "      <td>2022-08-30</td>\n",
       "      <td>MA</td>\n",
       "    </tr>\n",
       "    <tr>\n",
       "      <th>98</th>\n",
       "      <td>oranges_pound</td>\n",
       "      <td>2.356577</td>\n",
       "      <td>2</td>\n",
       "      <td>2022-05-18</td>\n",
       "      <td>MA</td>\n",
       "    </tr>\n",
       "    <tr>\n",
       "      <th>99</th>\n",
       "      <td>oranges_pound</td>\n",
       "      <td>2.751158</td>\n",
       "      <td>4</td>\n",
       "      <td>2023-04-19</td>\n",
       "      <td>MA</td>\n",
       "    </tr>\n",
       "  </tbody>\n",
       "</table>\n",
       "<p>100 rows × 5 columns</p>\n",
       "</div>"
      ],
      "text/plain": [
       "             name  unit_price  quantity date_purchased state\n",
       "0   oranges_pound    2.777284         3     2021-11-15    MA\n",
       "1         lettuce    2.157616         1     2021-07-13    MA\n",
       "2   bananas_pound    1.153413         2     2024-07-11    CA\n",
       "3   bananas_pound    1.690823         2     2023-05-01    NY\n",
       "4         lettuce    1.957954         3     2022-04-15    NY\n",
       "..            ...         ...       ...            ...   ...\n",
       "95    milk_gallon    3.917329         5     2021-10-01    MA\n",
       "96        lettuce    1.935441         2     2023-03-01    MA\n",
       "97        lettuce    2.371411         1     2022-08-30    MA\n",
       "98  oranges_pound    2.356577         2     2022-05-18    MA\n",
       "99  oranges_pound    2.751158         4     2023-04-19    MA\n",
       "\n",
       "[100 rows x 5 columns]"
      ]
     },
     "execution_count": 6,
     "metadata": {},
     "output_type": "execute_result"
    }
   ],
   "source": [
    "df_groceries"
   ]
  },
  {
   "cell_type": "code",
   "execution_count": 7,
   "id": "fd8ec64d-af87-4f2a-8528-5317fc7f62a7",
   "metadata": {},
   "outputs": [
    {
     "data": {
      "text/html": [
       "<div>\n",
       "<style scoped>\n",
       "    .dataframe tbody tr th:only-of-type {\n",
       "        vertical-align: middle;\n",
       "    }\n",
       "\n",
       "    .dataframe tbody tr th {\n",
       "        vertical-align: top;\n",
       "    }\n",
       "\n",
       "    .dataframe thead th {\n",
       "        text-align: right;\n",
       "    }\n",
       "</style>\n",
       "<table border=\"1\" class=\"dataframe\">\n",
       "  <thead>\n",
       "    <tr style=\"text-align: right;\">\n",
       "      <th></th>\n",
       "      <th>unit_price</th>\n",
       "      <th>quantity</th>\n",
       "      <th>date_purchased</th>\n",
       "    </tr>\n",
       "  </thead>\n",
       "  <tbody>\n",
       "    <tr>\n",
       "      <th>count</th>\n",
       "      <td>100.000000</td>\n",
       "      <td>100.000000</td>\n",
       "      <td>100</td>\n",
       "    </tr>\n",
       "    <tr>\n",
       "      <th>mean</th>\n",
       "      <td>2.244599</td>\n",
       "      <td>2.740000</td>\n",
       "      <td>2022-04-03 12:28:48</td>\n",
       "    </tr>\n",
       "    <tr>\n",
       "      <th>min</th>\n",
       "      <td>1.014729</td>\n",
       "      <td>1.000000</td>\n",
       "      <td>2020-01-29 00:00:00</td>\n",
       "    </tr>\n",
       "    <tr>\n",
       "      <th>25%</th>\n",
       "      <td>1.608169</td>\n",
       "      <td>1.750000</td>\n",
       "      <td>2021-03-19 12:00:00</td>\n",
       "    </tr>\n",
       "    <tr>\n",
       "      <th>50%</th>\n",
       "      <td>1.925289</td>\n",
       "      <td>3.000000</td>\n",
       "      <td>2022-02-14 12:00:00</td>\n",
       "    </tr>\n",
       "    <tr>\n",
       "      <th>75%</th>\n",
       "      <td>2.757690</td>\n",
       "      <td>4.000000</td>\n",
       "      <td>2023-03-24 12:00:00</td>\n",
       "    </tr>\n",
       "    <tr>\n",
       "      <th>max</th>\n",
       "      <td>4.922406</td>\n",
       "      <td>5.000000</td>\n",
       "      <td>2024-11-13 00:00:00</td>\n",
       "    </tr>\n",
       "    <tr>\n",
       "      <th>std</th>\n",
       "      <td>0.953421</td>\n",
       "      <td>1.353036</td>\n",
       "      <td>NaN</td>\n",
       "    </tr>\n",
       "  </tbody>\n",
       "</table>\n",
       "</div>"
      ],
      "text/plain": [
       "       unit_price    quantity       date_purchased\n",
       "count  100.000000  100.000000                  100\n",
       "mean     2.244599    2.740000  2022-04-03 12:28:48\n",
       "min      1.014729    1.000000  2020-01-29 00:00:00\n",
       "25%      1.608169    1.750000  2021-03-19 12:00:00\n",
       "50%      1.925289    3.000000  2022-02-14 12:00:00\n",
       "75%      2.757690    4.000000  2023-03-24 12:00:00\n",
       "max      4.922406    5.000000  2024-11-13 00:00:00\n",
       "std      0.953421    1.353036                  NaN"
      ]
     },
     "execution_count": 7,
     "metadata": {},
     "output_type": "execute_result"
    }
   ],
   "source": [
    "df_groceries.describe()"
   ]
  },
  {
   "cell_type": "code",
   "execution_count": 8,
   "id": "7e38fa22-95a3-43b3-a422-4c4f6795a755",
   "metadata": {},
   "outputs": [
    {
     "name": "stdout",
     "output_type": "stream",
     "text": [
      "<class 'pandas.core.frame.DataFrame'>\n",
      "RangeIndex: 100 entries, 0 to 99\n",
      "Data columns (total 5 columns):\n",
      " #   Column          Non-Null Count  Dtype         \n",
      "---  ------          --------------  -----         \n",
      " 0   name            100 non-null    object        \n",
      " 1   unit_price      100 non-null    float64       \n",
      " 2   quantity        100 non-null    int64         \n",
      " 3   date_purchased  100 non-null    datetime64[ns]\n",
      " 4   state           100 non-null    object        \n",
      "dtypes: datetime64[ns](1), float64(1), int64(1), object(2)\n",
      "memory usage: 4.0+ KB\n"
     ]
    }
   ],
   "source": [
    "df_groceries.info()"
   ]
  },
  {
   "cell_type": "code",
   "execution_count": 9,
   "id": "c4f65dbe-5e67-4ffc-a75e-14db0012415c",
   "metadata": {},
   "outputs": [
    {
     "data": {
      "text/plain": [
       "(100, 5)"
      ]
     },
     "execution_count": 9,
     "metadata": {},
     "output_type": "execute_result"
    }
   ],
   "source": [
    "df_groceries.shape"
   ]
  },
  {
   "cell_type": "code",
   "execution_count": 10,
   "id": "b604ea5f-b54c-4f0c-898b-4998591e7e40",
   "metadata": {},
   "outputs": [],
   "source": [
    "# Introducing \"bugs\"\n",
    "df_groceries.loc[4, \"state\"] = np.nan\n",
    "df_groceries.loc[1, \"unit_price\"] = 1000000\n",
    "df_groceries.loc[3, \"state\"] = \"ZZ\"\n",
    "df_groceries.loc[2, \"name\"] = \"television\""
   ]
  },
  {
   "cell_type": "code",
   "execution_count": 11,
   "id": "b593ea05-091b-40a6-91d0-2963a2104c9b",
   "metadata": {},
   "outputs": [
    {
     "data": {
      "text/plain": [
       "0     0\n",
       "1     0\n",
       "2     0\n",
       "3     0\n",
       "4     1\n",
       "     ..\n",
       "95    0\n",
       "96    0\n",
       "97    0\n",
       "98    0\n",
       "99    0\n",
       "Length: 100, dtype: int64"
      ]
     },
     "execution_count": 11,
     "metadata": {},
     "output_type": "execute_result"
    }
   ],
   "source": [
    "# Detecting \"bugs\"\n",
    "df_groceries.isna().sum(axis = 1)"
   ]
  },
  {
   "cell_type": "code",
   "execution_count": 12,
   "id": "52ed13cc-02f2-438f-bc42-ff9589ae73fa",
   "metadata": {},
   "outputs": [
    {
     "name": "stdout",
     "output_type": "stream",
     "text": [
      "name Empty DataFrame\n",
      "Columns: [name, unit_price, quantity, date_purchased, state]\n",
      "Index: []\n",
      "unit_price Empty DataFrame\n",
      "Columns: [name, unit_price, quantity, date_purchased, state]\n",
      "Index: []\n",
      "quantity Empty DataFrame\n",
      "Columns: [name, unit_price, quantity, date_purchased, state]\n",
      "Index: []\n",
      "date_purchased Empty DataFrame\n",
      "Columns: [name, unit_price, quantity, date_purchased, state]\n",
      "Index: []\n",
      "state       name  unit_price  quantity date_purchased state\n",
      "4  lettuce    1.957954         3     2022-04-15   NaN\n"
     ]
    }
   ],
   "source": [
    "for x in df_groceries.columns:\n",
    "    print(x, df_groceries[df_groceries[x].isna()])"
   ]
  },
  {
   "cell_type": "code",
   "execution_count": 17,
   "id": "543b0259-a015-423a-9e2c-31182ff5ccc3",
   "metadata": {},
   "outputs": [
    {
     "data": {
      "text/html": [
       "<div>\n",
       "<style scoped>\n",
       "    .dataframe tbody tr th:only-of-type {\n",
       "        vertical-align: middle;\n",
       "    }\n",
       "\n",
       "    .dataframe tbody tr th {\n",
       "        vertical-align: top;\n",
       "    }\n",
       "\n",
       "    .dataframe thead th {\n",
       "        text-align: right;\n",
       "    }\n",
       "</style>\n",
       "<table border=\"1\" class=\"dataframe\">\n",
       "  <thead>\n",
       "    <tr style=\"text-align: right;\">\n",
       "      <th></th>\n",
       "      <th>name</th>\n",
       "      <th>unit_price</th>\n",
       "      <th>quantity</th>\n",
       "      <th>date_purchased</th>\n",
       "      <th>state</th>\n",
       "    </tr>\n",
       "  </thead>\n",
       "  <tbody>\n",
       "    <tr>\n",
       "      <th>0</th>\n",
       "      <td>oranges_pound</td>\n",
       "      <td>2.777284</td>\n",
       "      <td>3</td>\n",
       "      <td>2021-11-15</td>\n",
       "      <td>MA</td>\n",
       "    </tr>\n",
       "    <tr>\n",
       "      <th>1</th>\n",
       "      <td>lettuce</td>\n",
       "      <td>1000000.0</td>\n",
       "      <td>1</td>\n",
       "      <td>2021-07-13</td>\n",
       "      <td>MA</td>\n",
       "    </tr>\n",
       "    <tr>\n",
       "      <th>2</th>\n",
       "      <td>television</td>\n",
       "      <td>1.153413</td>\n",
       "      <td>2</td>\n",
       "      <td>2024-07-11</td>\n",
       "      <td>CA</td>\n",
       "    </tr>\n",
       "    <tr>\n",
       "      <th>3</th>\n",
       "      <td>bananas_pound</td>\n",
       "      <td>1.690823</td>\n",
       "      <td>2</td>\n",
       "      <td>2023-05-01</td>\n",
       "      <td>ZZ</td>\n",
       "    </tr>\n",
       "    <tr>\n",
       "      <th>4</th>\n",
       "      <td>lettuce</td>\n",
       "      <td>1.957954</td>\n",
       "      <td>3</td>\n",
       "      <td>2022-04-15</td>\n",
       "      <td>NaN</td>\n",
       "    </tr>\n",
       "    <tr>\n",
       "      <th>5</th>\n",
       "      <td>milk_gallon</td>\n",
       "      <td>3.158148</td>\n",
       "      <td>3</td>\n",
       "      <td>2022-02-02</td>\n",
       "      <td>CA</td>\n",
       "    </tr>\n",
       "    <tr>\n",
       "      <th>6</th>\n",
       "      <td>lettuce</td>\n",
       "      <td>2.239016</td>\n",
       "      <td>3</td>\n",
       "      <td>2024-09-27</td>\n",
       "      <td>MA</td>\n",
       "    </tr>\n",
       "    <tr>\n",
       "      <th>7</th>\n",
       "      <td>oranges_pound</td>\n",
       "      <td>3.088639</td>\n",
       "      <td>3</td>\n",
       "      <td>2023-10-15</td>\n",
       "      <td>NY</td>\n",
       "    </tr>\n",
       "    <tr>\n",
       "      <th>8</th>\n",
       "      <td>milk_gallon</td>\n",
       "      <td>3.269675</td>\n",
       "      <td>1</td>\n",
       "      <td>2022-10-30</td>\n",
       "      <td>CA</td>\n",
       "    </tr>\n",
       "    <tr>\n",
       "      <th>9</th>\n",
       "      <td>milk_gallon</td>\n",
       "      <td>4.524333</td>\n",
       "      <td>3</td>\n",
       "      <td>2024-10-13</td>\n",
       "      <td>MA</td>\n",
       "    </tr>\n",
       "    <tr>\n",
       "      <th>11</th>\n",
       "      <td>apples_pound</td>\n",
       "      <td>1.610136</td>\n",
       "      <td>1</td>\n",
       "      <td>2024-11-13</td>\n",
       "      <td>CA</td>\n",
       "    </tr>\n",
       "  </tbody>\n",
       "</table>\n",
       "</div>"
      ],
      "text/plain": [
       "             name unit_price  quantity date_purchased state\n",
       "0   oranges_pound   2.777284         3     2021-11-15    MA\n",
       "1         lettuce  1000000.0         1     2021-07-13    MA\n",
       "2      television   1.153413         2     2024-07-11    CA\n",
       "3   bananas_pound   1.690823         2     2023-05-01    ZZ\n",
       "4         lettuce   1.957954         3     2022-04-15   NaN\n",
       "5     milk_gallon   3.158148         3     2022-02-02    CA\n",
       "6         lettuce   2.239016         3     2024-09-27    MA\n",
       "7   oranges_pound   3.088639         3     2023-10-15    NY\n",
       "8     milk_gallon   3.269675         1     2022-10-30    CA\n",
       "9     milk_gallon   4.524333         3     2024-10-13    MA\n",
       "11   apples_pound   1.610136         1     2024-11-13    CA"
      ]
     },
     "execution_count": 17,
     "metadata": {},
     "output_type": "execute_result"
    }
   ],
   "source": [
    "df_groceries.loc[10, \"unit_price\"] = \"bad_value\"\n",
    "df_g2 = df_groceries[pd.to_numeric(df_groceries['unit_price'], errors='coerce').notnull()]\n",
    "df_g2.iloc[0:11]"
   ]
  },
  {
   "cell_type": "code",
   "execution_count": 18,
   "id": "2aad5ac3-a05b-4292-a628-9fe56fd289b7",
   "metadata": {},
   "outputs": [
    {
     "data": {
      "text/html": [
       "<div>\n",
       "<style scoped>\n",
       "    .dataframe tbody tr th:only-of-type {\n",
       "        vertical-align: middle;\n",
       "    }\n",
       "\n",
       "    .dataframe tbody tr th {\n",
       "        vertical-align: top;\n",
       "    }\n",
       "\n",
       "    .dataframe thead th {\n",
       "        text-align: right;\n",
       "    }\n",
       "</style>\n",
       "<table border=\"1\" class=\"dataframe\">\n",
       "  <thead>\n",
       "    <tr style=\"text-align: right;\">\n",
       "      <th></th>\n",
       "      <th>unit_price</th>\n",
       "      <th>quantity</th>\n",
       "      <th>date_purchased</th>\n",
       "    </tr>\n",
       "    <tr>\n",
       "      <th>state</th>\n",
       "      <th></th>\n",
       "      <th></th>\n",
       "      <th></th>\n",
       "    </tr>\n",
       "  </thead>\n",
       "  <tbody>\n",
       "    <tr>\n",
       "      <th>CA</th>\n",
       "      <td>2.119037</td>\n",
       "      <td>2.742857</td>\n",
       "      <td>2022-03-22 21:56:34.285714176</td>\n",
       "    </tr>\n",
       "    <tr>\n",
       "      <th>MA</th>\n",
       "      <td>27780.26087</td>\n",
       "      <td>2.805556</td>\n",
       "      <td>2022-03-04 02:40:00.000000000</td>\n",
       "    </tr>\n",
       "    <tr>\n",
       "      <th>NY</th>\n",
       "      <td>2.005088</td>\n",
       "      <td>2.576923</td>\n",
       "      <td>2022-06-05 17:32:18.461538560</td>\n",
       "    </tr>\n",
       "    <tr>\n",
       "      <th>ZZ</th>\n",
       "      <td>1.690823</td>\n",
       "      <td>2.000000</td>\n",
       "      <td>2023-05-01 00:00:00.000000000</td>\n",
       "    </tr>\n",
       "  </tbody>\n",
       "</table>\n",
       "</div>"
      ],
      "text/plain": [
       "        unit_price  quantity                date_purchased\n",
       "state                                                     \n",
       "CA        2.119037  2.742857 2022-03-22 21:56:34.285714176\n",
       "MA     27780.26087  2.805556 2022-03-04 02:40:00.000000000\n",
       "NY        2.005088  2.576923 2022-06-05 17:32:18.461538560\n",
       "ZZ        1.690823  2.000000 2023-05-01 00:00:00.000000000"
      ]
     },
     "execution_count": 18,
     "metadata": {},
     "output_type": "execute_result"
    }
   ],
   "source": [
    "df_g2.groupby(\"state\").agg({\"unit_price\": \"mean\", \"quantity\": \"mean\", \"date_purchased\": \"mean\"})"
   ]
  },
  {
   "cell_type": "code",
   "execution_count": 19,
   "id": "e778e414-ae41-4ea1-a837-7bfe8a206ea0",
   "metadata": {},
   "outputs": [
    {
     "data": {
      "text/plain": [
       "state\n",
       "CA    36\n",
       "MA    36\n",
       "NY    26\n",
       "ZZ     1\n",
       "dtype: int64"
      ]
     },
     "execution_count": 19,
     "metadata": {},
     "output_type": "execute_result"
    }
   ],
   "source": [
    "df_groceries.groupby(\"state\").size()"
   ]
  },
  {
   "cell_type": "code",
   "execution_count": 20,
   "id": "9bf6333e-8569-4285-99c3-e20792bbccec",
   "metadata": {},
   "outputs": [
    {
     "data": {
      "text/plain": [
       "state\n",
       "CA    36\n",
       "MA    36\n",
       "NY    26\n",
       "dtype: int64"
      ]
     },
     "execution_count": 20,
     "metadata": {},
     "output_type": "execute_result"
    }
   ],
   "source": [
    "df_groceries[df_groceries[\"state\"] != \"ZZ\"].groupby(\"state\").size()"
   ]
  },
  {
   "cell_type": "code",
   "execution_count": 21,
   "id": "166ce583-5eef-4339-b17b-0147e08736bd",
   "metadata": {},
   "outputs": [],
   "source": [
    "unit_price = np.array([x for x in df_groceries[\"unit_price\"] if not isinstance(x, str)])"
   ]
  },
  {
   "cell_type": "code",
   "execution_count": 22,
   "id": "0ed83a7c-f18c-4e67-bd24-89246e98fed2",
   "metadata": {},
   "outputs": [
    {
     "data": {
      "text/plain": [
       "(array([98,  0,  1]),\n",
       " array([1.01472929e+00, 3.33334010e+05, 6.66667005e+05, 1.00000000e+06]))"
      ]
     },
     "execution_count": 22,
     "metadata": {},
     "output_type": "execute_result"
    }
   ],
   "source": [
    "np.histogram(unit_price, bins = 3)"
   ]
  },
  {
   "cell_type": "code",
   "execution_count": 23,
   "id": "ad1d22c0-bb89-46a9-8631-47c16ff2e191",
   "metadata": {},
   "outputs": [],
   "source": [
    "unit_price_fixed = unit_price[unit_price < 10]"
   ]
  },
  {
   "cell_type": "code",
   "execution_count": 24,
   "id": "f6aef37b-905f-471a-96a0-a336b700d3ae",
   "metadata": {},
   "outputs": [
    {
     "data": {
      "text/plain": [
       "(array([14, 22, 24, 10,  5, 11,  3,  1,  6,  2]),\n",
       " array([1.01472929, 1.40549694, 1.79626459, 2.18703225, 2.5777999 ,\n",
       "        2.96856755, 3.35933521, 3.75010286, 4.14087051, 4.53163817,\n",
       "        4.92240582]))"
      ]
     },
     "execution_count": 24,
     "metadata": {},
     "output_type": "execute_result"
    }
   ],
   "source": [
    "np.histogram(unit_price_fixed)"
   ]
  },
  {
   "cell_type": "markdown",
   "id": "75da9b52-5530-4a65-8616-ba24c25fe771",
   "metadata": {},
   "source": [
    "# Graph presentation"
   ]
  },
  {
   "cell_type": "code",
   "execution_count": 25,
   "id": "15e291c0-c7a5-46cd-9f14-656a13de5747",
   "metadata": {},
   "outputs": [
    {
     "data": {
      "text/plain": [
       "(array([14., 22., 24., 10.,  5., 11.,  3.,  1.,  6.,  2.]),\n",
       " array([1.01472929, 1.40549694, 1.79626459, 2.18703225, 2.5777999 ,\n",
       "        2.96856755, 3.35933521, 3.75010286, 4.14087051, 4.53163817,\n",
       "        4.92240582]),\n",
       " <BarContainer object of 10 artists>)"
      ]
     },
     "execution_count": 25,
     "metadata": {},
     "output_type": "execute_result"
    },
    {
     "data": {
      "image/png": "[encoded data removed]",
      "text/plain": [
       "<Figure size 640x480 with 1 Axes>"
      ]
     },
     "metadata": {},
     "output_type": "display_data"
    }
   ],
   "source": [
    "import matplotlib.pyplot as plt\n",
    "plt.hist(unit_price_fixed)"
   ]
  },
  {
   "cell_type": "code",
   "execution_count": 26,
   "id": "f58d9f6f-dc65-4b55-bed6-32d13a0a3e42",
   "metadata": {},
   "outputs": [
    {
     "data": {
      "text/plain": [
       "(array([36., 34., 16.,  4.,  8.]),\n",
       " array([1.01472929, 1.79626459, 2.5777999 , 3.35933521, 4.14087051,\n",
       "        4.92240582]),\n",
       " <BarContainer object of 5 artists>)"
      ]
     },
     "execution_count": 26,
     "metadata": {},
     "output_type": "execute_result"
    },
    {
     "data": {
      "image/png": "[encoded data removed]",
      "text/plain": [
       "<Figure size 640x480 with 1 Axes>"
      ]
     },
     "metadata": {},
     "output_type": "display_data"
    }
   ],
   "source": [
    "plt.hist(unit_price_fixed, bins = 5)"
   ]
  },
  {
   "cell_type": "code",
   "execution_count": 27,
   "id": "063ef097-9956-4484-8994-5489fc1ba225",
   "metadata": {},
   "outputs": [
    {
     "data": {
      "text/plain": [
       "(array([12.,  2., 10., 12., 21.,  3.,  6.,  4.,  4.,  1.,  4.,  7.,  1.,\n",
       "         2.,  1.,  0.,  3.,  3.,  1.,  1.]),\n",
       " array([1.01472929, 1.21011311, 1.40549694, 1.60088077, 1.79626459,\n",
       "        1.99164842, 2.18703225, 2.38241607, 2.5777999 , 2.77318373,\n",
       "        2.96856755, 3.16395138, 3.35933521, 3.55471903, 3.75010286,\n",
       "        3.94548669, 4.14087051, 4.33625434, 4.53163817, 4.72702199,\n",
       "        4.92240582]),\n",
       " <BarContainer object of 20 artists>)"
      ]
     },
     "execution_count": 27,
     "metadata": {},
     "output_type": "execute_result"
    },
    {
     "data": {
      "image/png": "[encoded data removed]",
      "text/plain": [
       "<Figure size 640x480 with 1 Axes>"
      ]
     },
     "metadata": {},
     "output_type": "display_data"
    }
   ],
   "source": [
    "plt.hist(unit_price_fixed, bins = 20)"
   ]
  },
  {
   "cell_type": "code",
   "execution_count": 28,
   "id": "0898d849-a945-4e7c-b4b7-26883b990e08",
   "metadata": {},
   "outputs": [
    {
     "data": {
      "text/plain": [
       "(array([0.62670991, 0.10445165, 0.52225825, 0.62670991, 1.09674234,\n",
       "        0.15667748, 0.31335495, 0.2089033 , 0.2089033 , 0.05222583,\n",
       "        0.2089033 , 0.36558078, 0.05222583, 0.10445165, 0.05222583,\n",
       "        0.        , 0.15667748, 0.15667748, 0.05222583, 0.05222583]),\n",
       " array([1.01472929, 1.21011311, 1.40549694, 1.60088077, 1.79626459,\n",
       "        1.99164842, 2.18703225, 2.38241607, 2.5777999 , 2.77318373,\n",
       "        2.96856755, 3.16395138, 3.35933521, 3.55471903, 3.75010286,\n",
       "        3.94548669, 4.14087051, 4.33625434, 4.53163817, 4.72702199,\n",
       "        4.92240582]),\n",
       " <BarContainer object of 20 artists>)"
      ]
     },
     "execution_count": 28,
     "metadata": {},
     "output_type": "execute_result"
    },
    {
     "data": {
      "image/png": "[encoded data removed]",
      "text/plain": [
       "<Figure size 640x480 with 1 Axes>"
      ]
     },
     "metadata": {},
     "output_type": "display_data"
    }
   ],
   "source": [
    "plt.hist(unit_price_fixed, bins = 20, density = True)"
   ]
  },
  {
   "cell_type": "code",
   "execution_count": 29,
   "id": "9a05bbc9-f875-440d-b406-d00ab5231070",
   "metadata": {},
   "outputs": [
    {
     "data": {
      "text/plain": [
       "(array([0.12244898, 0.14285714, 0.24489796, 0.36734694, 0.58163265,\n",
       "        0.6122449 , 0.67346939, 0.71428571, 0.75510204, 0.76530612,\n",
       "        0.80612245, 0.87755102, 0.8877551 , 0.90816327, 0.91836735,\n",
       "        0.91836735, 0.94897959, 0.97959184, 0.98979592, 1.        ]),\n",
       " array([1.01472929, 1.21011311, 1.40549694, 1.60088077, 1.79626459,\n",
       "        1.99164842, 2.18703225, 2.38241607, 2.5777999 , 2.77318373,\n",
       "        2.96856755, 3.16395138, 3.35933521, 3.55471903, 3.75010286,\n",
       "        3.94548669, 4.14087051, 4.33625434, 4.53163817, 4.72702199,\n",
       "        4.92240582]),\n",
       " <BarContainer object of 20 artists>)"
      ]
     },
     "execution_count": 29,
     "metadata": {},
     "output_type": "execute_result"
    },
    {
     "data": {
      "image/png": "[encoded data removed]",
      "text/plain": [
       "<Figure size 640x480 with 1 Axes>"
      ]
     },
     "metadata": {},
     "output_type": "display_data"
    }
   ],
   "source": [
    "plt.hist(unit_price_fixed, bins = 20, density = True, cumulative = True)"
   ]
  },
  {
   "cell_type": "code",
   "execution_count": 30,
   "id": "ccd20485-169f-4c6c-92e3-140c73de89f4",
   "metadata": {},
   "outputs": [
    {
     "data": {
      "text/plain": [
       "array([4.37708001e+00, 4.52433331e+00, 4.70754876e+00, 4.92240582e+00,\n",
       "       1.00000000e+06])"
      ]
     },
     "execution_count": 30,
     "metadata": {},
     "output_type": "execute_result"
    }
   ],
   "source": [
    "np.sort(unit_price)[-5:]"
   ]
  },
  {
   "cell_type": "code",
   "execution_count": 31,
   "id": "048f61f6-442b-401e-b177-bda3239d3e23",
   "metadata": {},
   "outputs": [
    {
     "data": {
      "text/plain": [
       "array([4.3475504 , 4.37708001, 4.52433331, 4.70754876, 4.92240582])"
      ]
     },
     "execution_count": 31,
     "metadata": {},
     "output_type": "execute_result"
    }
   ],
   "source": [
    "np.sort(unit_price)[np.sort(unit_price) < 5][-5:]"
   ]
  },
  {
   "cell_type": "code",
   "execution_count": 32,
   "id": "684507de-d53d-4862-8fa6-7bc56cbba6d6",
   "metadata": {},
   "outputs": [
    {
     "data": {
      "text/plain": [
       "name\n",
       "apples_pound     27\n",
       "bananas_pound    19\n",
       "lettuce          20\n",
       "milk_gallon      15\n",
       "oranges_pound    18\n",
       "television        1\n",
       "dtype: int64"
      ]
     },
     "execution_count": 32,
     "metadata": {},
     "output_type": "execute_result"
    }
   ],
   "source": [
    "df_groceries.groupby(\"name\").size()"
   ]
  },
  {
   "cell_type": "code",
   "execution_count": 33,
   "id": "cea4cafe-d5fb-4fb7-abe4-e01edbe52107",
   "metadata": {},
   "outputs": [
    {
     "name": "stdout",
     "output_type": "stream",
     "text": [
      "name [<class 'str'>]\n",
      "unit_price [<class 'float'> <class 'str'>]\n",
      "quantity [<class 'int'>]\n",
      "date_purchased [<class 'pandas._libs.tslibs.timestamps.Timestamp'>]\n",
      "state [<class 'str'> <class 'float'>]\n"
     ]
    }
   ],
   "source": [
    "df_type = df_groceries.map(type)\n",
    "for col in df_type.columns:\n",
    "    print(col, df_type[col].unique())"
   ]
  },
  {
   "cell_type": "code",
   "execution_count": 35,
   "id": "f47d3e5b-dddf-4273-a88b-36fb64df79b3",
   "metadata": {},
   "outputs": [
    {
     "name": "stdout",
     "output_type": "stream",
     "text": [
      "name [\"<class 'str'>\"]\n",
      "unit_price [\"<class 'float'>\" \"<class 'str'>\"]\n",
      "quantity [\"<class 'int'>\"]\n",
      "date_purchased [\"<class 'pandas._libs.tslibs.timestamps.Timestamp'>\"]\n",
      "state [\"<class 'float'>\" \"<class 'str'>\"]\n"
     ]
    }
   ],
   "source": [
    "for col, row in zip(df_groceries.columns, np.vectorize(lambda x: str(type(x)))(df_groceries.values.T)):\n",
    "    print(col, np.unique(row))"
   ]
  },
  {
   "cell_type": "code",
   "execution_count": 39,
   "id": "e6bff63c-b5cb-425b-a81d-5b4648e762ba",
   "metadata": {},
   "outputs": [],
   "source": [
    "df_groceries_fixed = df_groceries[np.vectorize(lambda x: isinstance(x, float) and x < 10)(df_groceries[\"unit_price\"])]"
   ]
  },
  {
   "cell_type": "code",
   "execution_count": 40,
   "id": "2b455279-160c-4545-b9cd-d48f035c26cc",
   "metadata": {},
   "outputs": [
    {
     "data": {
      "text/plain": [
       "unit_price                              2.23815\n",
       "quantity                               2.734694\n",
       "date_purchased    2022-04-11 19:06:07.346938880\n",
       "dtype: object"
      ]
     },
     "execution_count": 40,
     "metadata": {},
     "output_type": "execute_result"
    }
   ],
   "source": [
    "df_groceries_fixed[[\"unit_price\", \"quantity\", \"date_purchased\"]].mean(axis = 0)"
   ]
  },
  {
   "cell_type": "code",
   "execution_count": 38,
   "id": "00141550-6345-4d41-b673-e42210204f54",
   "metadata": {},
   "outputs": [],
   "source": [
    "# I want to take a dataframe column and apply the same function to teach item"
   ]
  },
  {
   "cell_type": "markdown",
   "id": "c246e727-e176-4d0a-8280-f375d7289d1d",
   "metadata": {},
   "source": [
    "# ChatGPT conversation 1\n",
    "\n",
    "How to create a simple description of a dataframe?\n",
    "ChatGPT said:\n",
    "ChatGPT\n",
    "To create a simple description of a DataFrame in Python, you can use a combination of df.info(), df.describe(), and df.head(). Here's how you can put them together:\n",
    "\n",
    "python\n",
    "Copy\n",
    "import pandas as pd\n",
    "\n",
    "# Sample DataFrame\n",
    "data = {'A': [1, 2, 3, 4, 5], 'B': [5, 4, 3, 2, 1], 'C': [10, 20, 30, 40, 50]}\n",
    "df = pd.DataFrame(data)\n",
    "\n",
    "# Basic Description\n",
    "print(\"DataFrame Info:\")\n",
    "print(df.info())\n",
    "\n",
    "print(\"\\nDescriptive Statistics:\")\n",
    "print(df.describe())\n",
    "\n",
    "print(\"\\nFirst Few Rows:\")\n",
    "print(df.head())\n",
    "This will give:\n",
    "\n",
    "Info: Structure, data types, and null counts.\n",
    "Describe: Summary statistics for numeric columns.\n",
    "Head: First few rows for a quick preview.\n",
    "You can combine these outputs into a simple description for your dataset.\n",
    "\n",
    "\n",
    "You said:\n",
    "Any other approaches?\n",
    "ChatGPT said:\n",
    "ChatGPT\n",
    "Yes, there are other approaches to creating a simple description of a DataFrame, depending on what you're interested in. Here are a few additional ways you can describe a DataFrame:\n",
    "\n",
    "1. Unique Value Count (for categorical columns):\n",
    "If you want to understand the uniqueness of the values in each column, especially for categorical data:\n",
    "\n",
    "python\n",
    "Copy\n",
    "print(df.nunique())\n",
    "This will give you the count of unique values for each column.\n",
    "\n",
    "2. Missing Data Information:\n",
    "If you want to see how much missing data there is in each column:\n",
    "\n",
    "python\n",
    "Copy\n",
    "print(df.isnull().sum())\n",
    "This will show the count of NaN or missing values in each column.\n",
    "\n",
    "3. Data Types (Explicit Type Overview):\n",
    "You can print the data types of the columns explicitly for clarity:\n",
    "\n",
    "python\n",
    "Copy\n",
    "print(df.dtypes)\n",
    "This tells you whether each column is an integer, float, object (string), etc.\n",
    "\n",
    "4. Correlation Between Numeric Columns:\n",
    "If you have numeric data and want to explore correlations between columns:\n",
    "\n",
    "python\n",
    "Copy\n",
    "print(df.corr())\n",
    "This will give you a correlation matrix of numerical columns in the DataFrame.\n",
    "\n",
    "5. Value Counts (for categorical columns):\n",
    "If you have categorical data and want to see the frequency of each category:\n",
    "\n",
    "python\n",
    "Copy\n",
    "for col in df.select_dtypes(include=['object']).columns:\n",
    "    print(df[col].value_counts())\n",
    "This will print the count of unique values for each categorical column.\n",
    "\n",
    "6. Shape of the DataFrame:\n",
    "The .shape attribute tells you how many rows and columns are in the DataFrame:\n",
    "\n",
    "python\n",
    "Copy\n",
    "print(df.shape)\n",
    "7. Summary of String Columns:\n",
    "If your DataFrame has textual data (strings), you can get some useful information about them using:\n",
    "\n",
    "python\n",
    "Copy\n",
    "print(df.select_dtypes(include=['object']).describe())\n",
    "This will show you the count, unique values, most frequent value, and the length of the longest string for each string column.\n",
    "\n",
    "8. Custom Summary (Combining Multiple Methods):\n",
    "You can combine these methods to create a more detailed description of your DataFrame:\n",
    "\n",
    "python\n",
    "Copy\n",
    "print(f\"Shape of DataFrame: {df.shape}\")\n",
    "print(f\"Data Types:\\n{df.dtypes}\")\n",
    "print(f\"Missing Values:\\n{df.isnull().sum()}\")\n",
    "print(f\"Descriptive Statistics:\\n{df.describe()}\")\n",
    "print(f\"Correlation Matrix:\\n{df.corr()}\")\n",
    "print(f\"Unique Values:\\n{df.nunique()}\")\n",
    "Example Combining Multiple Descriptions:\n",
    "python\n",
    "Copy\n",
    "import pandas as pd\n",
    "\n",
    "# Sample DataFrame\n",
    "data = {'A': [1, 2, 3, 4, 5], 'B': [5, 4, 3, 2, 1], 'C': [10, 20, None, 40, 50], 'Category': ['X', 'Y', 'X', 'Z', 'Y']}\n",
    "df = pd.DataFrame(data)\n",
    "\n",
    "# Simple description\n",
    "print(\"Basic Info:\")\n",
    "print(df.info())\n",
    "\n",
    "print(\"\\nDescriptive Statistics (Numeric):\")\n",
    "print(df.describe())\n",
    "\n",
    "print(\"\\nMissing Values:\")\n",
    "print(df.isnull().sum())\n",
    "\n",
    "print(\"\\nUnique Values per Column:\")\n",
    "print(df.nunique())\n",
    "\n",
    "print(\"\\nValue Counts (Category Column):\")\n",
    "print(df['Category'].value_counts())\n",
    "\n",
    "print(\"\\nCorrelation Matrix:\")\n",
    "print(df.corr())\n",
    "This way, you can adjust the depth of the description depending on the data type and focus of your analysis."
   ]
  },
  {
   "cell_type": "code",
   "execution_count": null,
   "id": "4008ac92-0ad0-425e-8efa-fba0ed790176",
   "metadata": {},
   "outputs": [],
   "source": []
  }
 ],
 "metadata": {
  "kernelspec": {
   "display_name": "Python 3 (ipykernel)",
   "language": "python",
   "name": "python3"
  },
  "language_info": {
   "codemirror_mode": {
    "name": "ipython",
    "version": 3
   },
   "file_extension": ".py",
   "mimetype": "text/x-python",
   "name": "python",
   "nbconvert_exporter": "python",
   "pygments_lexer": "ipython3",
   "version": "3.12.0"
  }
 },
 "nbformat": 4,
 "nbformat_minor": 5
}
